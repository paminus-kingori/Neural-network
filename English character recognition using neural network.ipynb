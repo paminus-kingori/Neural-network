{
 "cells": [
  {
   "cell_type": "markdown",
   "metadata": {},
   "source": [
    "# Paminus Murungi King'ori\n",
    "# CIT-223-032/2018"
   ]
  },
  {
   "cell_type": "markdown",
   "metadata": {},
   "source": [
    "# A neural network for classifying handwritten characters"
   ]
  },
  {
   "cell_type": "code",
   "execution_count": 1,
   "metadata": {
    "_cell_guid": "b1076dfc-b9ad-4769-8c92-a6c4dae69d19",
    "_kg_hide-output": true,
    "_uuid": "8f2839f25d086af736a60e9eeb907d3b93b6e0e5",
    "execution": {
     "iopub.execute_input": "2022-06-07T04:59:22.092834Z",
     "iopub.status.busy": "2022-06-07T04:59:22.092061Z",
     "iopub.status.idle": "2022-06-07T04:59:25.955680Z",
     "shell.execute_reply": "2022-06-07T04:59:25.954317Z",
     "shell.execute_reply.started": "2022-06-07T04:59:22.092714Z"
    }
   },
   "outputs": [],
   "source": [
    "import numpy as np \n",
    "import pandas as pd \n",
    "import os\n",
    "for dirname, _, filenames in os.walk('/kaggle/input'):\n",
    "    for filename in filenames:\n",
    "        print(os.path.join(dirname, filename))"
   ]
  },
  {
   "cell_type": "markdown",
   "metadata": {},
   "source": [
    "# About the dataset\n",
    "The dataset has 3410 images with handwritten characters (0-9 numbers, a-z alphabets lowercase and uppercase)\n",
    "The goal is to train the model to recognize and predict the characters efficiently and categorize between 62 unique characters using a neural network\n"
   ]
  },
  {
   "cell_type": "markdown",
   "metadata": {},
   "source": [
    "**import the libraries**"
   ]
  },
  {
   "cell_type": "code",
   "execution_count": 2,
   "metadata": {
    "execution": {
     "iopub.execute_input": "2022-06-07T04:59:25.959628Z",
     "iopub.status.busy": "2022-06-07T04:59:25.959280Z",
     "iopub.status.idle": "2022-06-07T04:59:32.540857Z",
     "shell.execute_reply": "2022-06-07T04:59:32.539624Z",
     "shell.execute_reply.started": "2022-06-07T04:59:25.959597Z"
    }
   },
   "outputs": [],
   "source": [
    "import random\n",
    "import seaborn as sns\n",
    "from sklearn.metrics import confusion_matrix\n",
    "from keras_preprocessing.image import ImageDataGenerator\n",
    "import tensorflow as tf\n",
    "import matplotlib.image as img\n",
    "import matplotlib.pyplot as plt"
   ]
  },
  {
   "cell_type": "markdown",
   "metadata": {},
   "source": [
    "# Split the dataset\n",
    "Split the data into 3 datasets - training set, validation test and test set"
   ]
  },
  {
   "cell_type": "code",
   "execution_count": 75,
   "metadata": {
    "execution": {
     "iopub.execute_input": "2022-06-07T04:59:32.543113Z",
     "iopub.status.busy": "2022-06-07T04:59:32.542682Z",
     "iopub.status.idle": "2022-06-07T04:59:32.586766Z",
     "shell.execute_reply": "2022-06-07T04:59:32.585787Z",
     "shell.execute_reply.started": "2022-06-07T04:59:32.543067Z"
    }
   },
   "outputs": [],
   "source": [
    "data_path = r\"\"\n",
    "\n",
    "dataset = pd.read_csv('english.csv')\n",
    "rand = random.sample(range(len(dataset)), 500)\n",
    "validation_set = pd.DataFrame(dataset.iloc[rand, :].values, columns=['image', 'label'])\n",
    "# remove the added data\n",
    "dataset.drop(rand, inplace=True)\n",
    "\n",
    "rand = random.sample(range(len(validation_set)), 30)\n",
    "test_set = pd.DataFrame(validation_set.iloc[rand, :].values, columns=['image', 'label'])\n",
    "# remove the added data\n",
    "validation_set.drop(rand, inplace=True)\n"
   ]
  },
  {
   "cell_type": "markdown",
   "metadata": {},
   "source": [
    "# Load data\n",
    "Load the images through **flow_from_dataframe** method"
   ]
  },
  {
   "cell_type": "code",
   "execution_count": 76,
   "metadata": {
    "execution": {
     "iopub.execute_input": "2022-06-07T04:59:32.588401Z",
     "iopub.status.busy": "2022-06-07T04:59:32.588089Z",
     "iopub.status.idle": "2022-06-07T04:59:34.166205Z",
     "shell.execute_reply": "2022-06-07T04:59:34.165058Z",
     "shell.execute_reply.started": "2022-06-07T04:59:32.588370Z"
    }
   },
   "outputs": [
    {
     "name": "stdout",
     "output_type": "stream",
     "text": [
      "Found 2910 validated image filenames belonging to 62 classes.\n",
      "Found 470 validated image filenames belonging to 62 classes.\n",
      "Found 30 validated image filenames belonging to 27 classes.\n"
     ]
    }
   ],
   "source": [
    "train_data_generator = ImageDataGenerator(rescale=1/255, shear_range=0.2, zoom_range=0.2)\n",
    "data_generator = ImageDataGenerator(rescale=1/255)\n",
    "training_data_frame = train_data_generator.flow_from_dataframe(dataframe=dataset, directory=data_path, x_col='image', y_col='label', \n",
    "                                                               target_size=(64, 64), class_mode='categorical')\n",
    "validation_data_frame = data_generator.flow_from_dataframe(dataframe=validation_set, directory=data_path, x_col='image', y_col='label', \n",
    "                                                           target_size=(64, 64), class_mode='categorical')\n",
    "test_data_frame = data_generator.flow_from_dataframe(dataframe=test_set, directory=data_path, x_col='image', y_col='label', \n",
    "                                                     target_size=(64, 64), class_mode='categorical', shuffle=False)"
   ]
  },
  {
   "cell_type": "markdown",
   "metadata": {},
   "source": [
    "# Building the neural network\n",
    "**TensorFlow** will be used to build the convolutional neural network.\n"
   ]
  },
  {
   "cell_type": "code",
   "execution_count": 77,
   "metadata": {
    "execution": {
     "iopub.execute_input": "2022-06-07T04:59:34.169923Z",
     "iopub.status.busy": "2022-06-07T04:59:34.169615Z",
     "iopub.status.idle": "2022-06-07T04:59:34.288424Z",
     "shell.execute_reply": "2022-06-07T04:59:34.287473Z",
     "shell.execute_reply.started": "2022-06-07T04:59:34.169888Z"
    }
   },
   "outputs": [],
   "source": [
    "cnn = tf.keras.models.Sequential()\n",
    "\n",
    "# add convolutional and pooling layer\n",
    "cnn.add(tf.keras.layers.Conv2D(filters=30, kernel_size=3, activation='relu', input_shape=[64, 64, 3]))\n",
    "cnn.add(tf.keras.layers.MaxPool2D(pool_size=2, strides=2))\n",
    "\n",
    "cnn.add(tf.keras.layers.Conv2D(filters=30, kernel_size=3, activation='relu'))\n",
    "cnn.add(tf.keras.layers.MaxPool2D(pool_size=2, strides=2))\n",
    "\n",
    "cnn.add(tf.keras.layers.Conv2D(filters=30, kernel_size=3, activation='relu'))\n",
    "cnn.add(tf.keras.layers.MaxPool2D(pool_size=2, strides=2))\n",
    "\n",
    "cnn.add(tf.keras.layers.Flatten())"
   ]
  },
  {
   "cell_type": "markdown",
   "metadata": {},
   "source": [
    "# Building, compiling and training the neural network\n",
    "\n",
    "From the above step we have received the flattened matrix of the images that we processed\n",
    "We are going to feed it to our neural network and train it\n",
    "\n",
    "The model accuracy improves as the epochs iteration progresses"
   ]
  },
  {
   "cell_type": "code",
   "execution_count": 78,
   "metadata": {
    "execution": {
     "iopub.execute_input": "2022-06-07T05:05:21.452451Z",
     "iopub.status.busy": "2022-06-07T05:05:21.452054Z"
    },
    "scrolled": true
   },
   "outputs": [
    {
     "name": "stdout",
     "output_type": "stream",
     "text": [
      "Epoch 1/5\n",
      "91/91 [==============================] - 39s 425ms/step - loss: 3.7058 - accuracy: 0.1096 - val_loss: 2.6062 - val_accuracy: 0.3149\n",
      "Epoch 2/5\n",
      "91/91 [==============================] - 39s 423ms/step - loss: 1.9407 - accuracy: 0.4759 - val_loss: 1.4310 - val_accuracy: 0.6191\n",
      "Epoch 3/5\n",
      "91/91 [==============================] - 41s 447ms/step - loss: 1.1918 - accuracy: 0.6591 - val_loss: 1.1738 - val_accuracy: 0.6766\n",
      "Epoch 4/5\n",
      "91/91 [==============================] - 39s 429ms/step - loss: 0.8562 - accuracy: 0.7464 - val_loss: 1.0662 - val_accuracy: 0.7000\n",
      "Epoch 5/5\n",
      "91/91 [==============================] - 40s 440ms/step - loss: 0.6193 - accuracy: 0.8096 - val_loss: 1.0377 - val_accuracy: 0.7383\n"
     ]
    }
   ],
   "source": [
    "# add full connection, output layer\n",
    "cnn.add(tf.keras.layers.Dense(units=600, activation='relu'))\n",
    "cnn.add(tf.keras.layers.Dense(units=62, activation='softmax'))\n",
    "\n",
    "# compile cnn\n",
    "cnn.compile(optimizer='adam', loss='categorical_crossentropy', metrics=['accuracy'])\n",
    "\n",
    "history = cnn.fit(x=training_data_frame, validation_data=validation_data_frame, epochs=5)"
   ]
  },
  {
   "cell_type": "code",
   "execution_count": 79,
   "metadata": {},
   "outputs": [
    {
     "data": {
      "image/png": "[encoded data removed]",
      "text/plain": [
       "<Figure size 432x288 with 1 Axes>"
      ]
     },
     "metadata": {
      "needs_background": "light"
     },
     "output_type": "display_data"
    }
   ],
   "source": [
    "plt.xlabel(\"Epochs\")\n",
    "plt.ylabel(\"Accuracy\")\n",
    "plt.plot(history.history[\"accuracy\"],label=\"Training accuracy\")\n",
    "plt.plot(history.history[\"val_accuracy\"],label=\"Validation accuracy\")\n",
    "plt.legend()\n",
    "plt.show()"
   ]
  },
  {
   "cell_type": "code",
   "execution_count": 80,
   "metadata": {},
   "outputs": [
    {
     "data": {
      "image/png": "[encoded data removed]",
      "text/plain": [
       "<Figure size 432x288 with 1 Axes>"
      ]
     },
     "metadata": {
      "needs_background": "light"
     },
     "output_type": "display_data"
    }
   ],
   "source": [
    "plt.xlabel(\"Epochs\")\n",
    "plt.ylabel(\"Loss\")\n",
    "plt.plot(history.history[\"loss\"],label=\"Training loss\")\n",
    "plt.plot(history.history[\"val_loss\"],label=\"Validation loss\")\n",
    "plt.legend()\n",
    "plt.show()"
   ]
  },
  {
   "cell_type": "markdown",
   "metadata": {},
   "source": [
    "# Predicting the testset images\n",
    "\n",
    "Since the model is trained, lets pass the testset images and see how well our model predicts\n",
    "class_indices function gives us the neural network mapping for our 62 characters\n",
    "\n",
    "The result image's name is the predicted character by our model"
   ]
  },
  {
   "cell_type": "code",
   "execution_count": 81,
   "metadata": {
    "execution": {
     "iopub.status.busy": "2022-06-07T05:04:53.742879Z",
     "iopub.status.idle": "2022-06-07T05:04:53.743671Z"
    }
   },
   "outputs": [
    {
     "name": "stdout",
     "output_type": "stream",
     "text": [
      "1/1 [==============================] - 0s 353ms/step\n"
     ]
    }
   ],
   "source": [
    "# print(\"Prediction mapping: \", training_data_frame.class_indices)\n",
    "pred = cnn.predict(test_data_frame)\n",
    "\n",
    "# switcher shows our network mapping to the prediction\n",
    "switcher = {\n",
    "            0: \"0\", 1: \"1\", 2: \"2\", 3: \"3\", 4: \"4\", 5: \"5\", 6: \"6\", 7: \"7\", 8: \"8\", 9: \"9\", 10: \"A\",\n",
    "            11: \"B\", 12: \"C\", 13: \"D\", 14: \"E\", 15: \"F\", 16: \"G\", 17: \"H\", 18: \"I\", 19: \"J\", 20: \"K\",\n",
    "            21: \"L\", 22: \"M\", 23: \"N\", 24: \"O\", 25: \"P\", 26: \"Q\", 27: \"R\", 28: \"S\", 29: \"T\", 30: \"U\",\n",
    "            31: \"V\", 32: \"W\", 33: \"X\", 34: \"Y\", 35: \"Z\", 36: \"a\", 37: \"b\", 38: \"c\", 39: \"d\", 40: \"e\",\n",
    "            41: \"f\", 42: \"g\", 43: \"h\", 44: \"i\", 45: \"j\", 46: \"k\", 47: \"l\", 48: \"m\", 49: \"n\", 50: \"o\",\n",
    "            51: \"p\", 52: \"q\", 53: \"r\", 54: \"s\", 55: \"t\", 56: \"u\", 57: \"v\", 58: \"w\", 59: \"x\", 60: \"y\",\n",
    "            61: \"z\"}\n"
   ]
  },
  {
   "cell_type": "code",
   "execution_count": 82,
   "metadata": {
    "scrolled": false
   },
   "outputs": [
    {
     "name": "stdout",
     "output_type": "stream",
     "text": [
      "character E Predicted with confidence of 100%\n",
      "character J Predicted with confidence of 44%\n",
      "character m Predicted with confidence of 90%\n",
      "character J Predicted with confidence of 97%\n",
      "character r Predicted with confidence of 49%\n",
      "character C Predicted with confidence of 97%\n",
      "character D Predicted with confidence of 59%\n",
      "character B Predicted with confidence of 100%\n",
      "character 8 Predicted with confidence of 95%\n",
      "character H Predicted with confidence of 54%\n",
      "character x Predicted with confidence of 100%\n",
      "character R Predicted with confidence of 94%\n",
      "character P Predicted with confidence of 100%\n",
      "character L Predicted with confidence of 97%\n",
      "character R Predicted with confidence of 100%\n",
      "character S Predicted with confidence of 60%\n",
      "character K Predicted with confidence of 98%\n",
      "character H Predicted with confidence of 99%\n",
      "character u Predicted with confidence of 50%\n",
      "character T Predicted with confidence of 100%\n",
      "character J Predicted with confidence of 55%\n",
      "character a Predicted with confidence of 77%\n",
      "character 4 Predicted with confidence of 59%\n",
      "character 0 Predicted with confidence of 59%\n",
      "character 3 Predicted with confidence of 99%\n",
      "character F Predicted with confidence of 100%\n",
      "character l Predicted with confidence of 24%\n",
      "character O Predicted with confidence of 41%\n",
      "character 9 Predicted with confidence of 67%\n",
      "character O Predicted with confidence of 94%\n"
     ]
    }
   ],
   "source": [
    "for i in range(len(test_set)):\n",
    "    print(f\"character {switcher[pred.argmax(axis=1)[i]]} Predicted with confidence of {round(pred.max(axis=1)[i]*100)}%\")"
   ]
  }
 ],
 "metadata": {
  "kernelspec": {
   "display_name": "Python 3 (ipykernel)",
   "language": "python",
   "name": "python3"
  },
  "language_info": {
   "codemirror_mode": {
    "name": "ipython",
    "version": 3
   },
   "file_extension": ".py",
   "mimetype": "text/x-python",
   "name": "python",
   "nbconvert_exporter": "python",
   "pygments_lexer": "ipython3",
   "version": "3.9.13"
  }
 },
 "nbformat": 4,
 "nbformat_minor": 4
}
